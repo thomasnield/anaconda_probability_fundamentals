{
 "cells": [
  {
   "cell_type": "markdown",
   "id": "e0bd6551-c24f-40ea-a13b-95e90f2511ab",
   "metadata": {},
   "source": [
    "# Discrete Distributions\n",
    "\n",
    "We are going to measure discrete events (e.g. True/False, A/B/C, Dog/Cat/Bird, etc) using discrete distributions. Discrete events are categorical events that are countable natural numbers or integers, and not floating point values. \n",
    "\n",
    "Let's start with the arguably simplest discrete distribution, and use it to introduce distributions in general."
   ]
  },
  {
   "cell_type": "markdown",
   "id": "799e858a-f60e-4fc1-9b30-3a746942d82d",
   "metadata": {},
   "source": [
    "## Bernoulli Distribution"
   ]
  },
  {
   "cell_type": "markdown",
   "id": "84776465-a0ea-408b-9a59-fed5f88cace5",
   "metadata": {},
   "source": [
    "Let's say I am trying to manufacture a swimming MP3 player. But for it to work, it obviously has to be waterproof. My engineer claims the current prototype should work 90% of the time. When I ask her to clarify, she says each unit built has a 90% chance of working correctly and keeping the water out. \n",
    "\n",
    "![img](data:image/svg+xml;base64,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)"
   ]
  },
  {
   "cell_type": "markdown",
   "id": "84c4d307-cb96-40ff-a1d8-30b9eefc4e91",
   "metadata": {},
   "source": [
    "If you were asked to show this as a simple bar chart, the percentage of working versus non-working swimming MP3 players, we would use a **Bernoulli Distribution**. This would include two bars, with x-values $ 0 $ and $ 1 $ for working and non-working outcomes, with y-values $ .1 $ and $ .9 $ respectively. \n",
    "\n",
    "Below, we use a `bernoulli` distribution's `pmf` function to show the False (0) and True (1) probabilities respectively. PMF stands for \"probability mass function\", which outputs the probability for each event outcome. "
   ]
  },
  {
   "cell_type": "code",
   "execution_count": null,
   "id": "d89ea34d-5b14-493e-9e96-7221c011eaf9",
   "metadata": {},
   "outputs": [],
   "source": [
    "from scipy.stats import bernoulli\n",
    "\n",
    "# Set the probability of success (think \"1\" or a \"heads\" in a coin fliip) \n",
    "p = 0.9\n",
    "\n",
    "# Create a Bernoulli distribution object\n",
    "bd = bernoulli(p)\n",
    "\n",
    "# Generate x-values \n",
    "x = np.array([0, 1])\n",
    "\n",
    "# Calculate the probability mass function (PMF)\n",
    "pmf = bd.pmf(x)\n",
    "print(pmf) # [0.1 0.9]"
   ]
  },
  {
   "cell_type": "markdown",
   "id": "91652da0-6a38-47f7-b23d-eae04e434a8a",
   "metadata": {},
   "source": [
    "It should be unsurprising that both outcomes (0 or 1, True or False, working or not working) add up to  $ 1.0 $. This is what makes a *probability distribution*, where all outcomes add up to 1.0. \n",
    "\n",
    "To visualize this, let's put it in a bar graph. "
   ]
  },
  {
   "cell_type": "code",
   "execution_count": null,
   "id": "1704e93b-cea7-4cf2-b642-962fb90fe029",
   "metadata": {},
   "outputs": [],
   "source": [
    "import numpy as np\n",
    "import matplotlib.pyplot as plt\n",
    "from scipy.stats import bernoulli\n",
    "\n",
    "# Set the probability of success (think \"1\" or a \"heads\" in a coin fliip) \n",
    "p = 0.9\n",
    "\n",
    "# Create a Bernoulli distribution object\n",
    "bd = bernoulli(p)\n",
    "\n",
    "# Generate x-values for the plot\n",
    "x = np.array([0, 1])\n",
    "\n",
    "# Calculate the probability mass function (PMF)\n",
    "pmf = bd.pmf(x)\n",
    "print(pmf) # [0.1 0.9]\n",
    "\n",
    "# Plot the PMF\n",
    "plt.bar(x, pmf,  label='Bernoulli PMF')\n",
    "\n",
    "# Set the tick marks on the x axis\n",
    "plt.xticks([0, 1])\n",
    "\n",
    "# Set the title and labels\n",
    "plt.title('Bernoulli Distribution')\n",
    "plt.xlabel('Outcome (0 or 1)')\n",
    "plt.ylabel('Probability')\n",
    "\n",
    "# Show the plot\n",
    "plt.legend(loc='best', frameon=False)\n",
    "plt.show()"
   ]
  },
  {
   "cell_type": "markdown",
   "id": "1ef22384-baea-4d0b-a152-c1dfd9ad8da8",
   "metadata": {},
   "source": [
    "The Bernoulli distribution is hopefully straightforward. It just shows the probabilities of the event occurring and not occurring as a bar chart. "
   ]
  },
  {
   "cell_type": "markdown",
   "id": "6c3e3180-4c29-4f28-b137-43e042c9915b",
   "metadata": {},
   "source": [
    "## Binomial Distribution "
   ]
  },
  {
   "cell_type": "markdown",
   "id": "f0d793a4-2ca1-4ef3-93e3-00361e4e6b67",
   "metadata": {},
   "source": [
    "![img](data:image/svg+xml;base64,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)\n",
    "\n",
    "Next up, let's talk about the **binomial distribution** which measures out of *n* trials, what is the probability for seeing *k* successes/events given *p* probability? Let's say we want to know how likely it is with a 90% success rate, we would see 8 working swimming mp3 players out of 10. We can achieve this using the binomial. Below, we declare a binomial distribution in SciPy and specify the `k`, `n` and `x` value the last which will be 8 through the `pmf()` function. "
   ]
  },
  {
   "cell_type": "code",
   "execution_count": null,
   "id": "ca859977-53cf-4e10-be7a-70aaaf1bc218",
   "metadata": {},
   "outputs": [],
   "source": [
    "from scipy.stats import binom\n",
    "\n",
    "# Set the number of trials and probability of success\n",
    "n = 10\n",
    "p = 0.9\n",
    "\n",
    "# Calculate the probability mass function (PMF)\n",
    "y = binom.pmf(8, n, p)\n",
    "\n",
    "print(\"What is the probability of 8 working devices out of 10?\")\n",
    "print(y) # 0.1937102445"
   ]
  },
  {
   "cell_type": "markdown",
   "id": "50912d66-45f6-45e0-b121-0037ed09adfe",
   "metadata": {},
   "source": [
    "So there is a 19.37% probability we would see 8 working devices out of 10 devices total. How about we look at all possible outcomes in bar chart? Where we see for 10 trials, what is the probability of $ k $ working devices from 0 through 10? "
   ]
  },
  {
   "cell_type": "code",
   "execution_count": null,
   "id": "8813ba56-acbf-4b56-ac95-54a5a156be8b",
   "metadata": {},
   "outputs": [],
   "source": [
    "import numpy as np\n",
    "import matplotlib.pyplot as plt\n",
    "from scipy.stats import binom\n",
    "\n",
    "# Set the number of trials and probability of success\n",
    "n = 10\n",
    "p = 0.9\n",
    "\n",
    "# Generate x-values for the plot\n",
    "x = np.arange(0, n + 1)\n",
    "\n",
    "# Calculate the probability mass function (PMF)\n",
    "pmf = binom.pmf(x, n, p)\n",
    "\n",
    "# Plot the PMF\n",
    "plt.plot(x, pmf, 'bo', ms=8, label='Binomial PMF')\n",
    "plt.vlines(x, 0, pmf, colors='b', lw=5, alpha=0.5)\n",
    "\n",
    "# Set the title and labels\n",
    "plt.title('Binomial Distribution')\n",
    "plt.xlabel('Number of successes')\n",
    "plt.ylabel('Probability')\n",
    "\n",
    "# Show the plot\n",
    "plt.legend(loc='best', frameon=False)\n",
    "plt.show()\n"
   ]
  },
  {
   "cell_type": "markdown",
   "id": "cc7fe270-ab19-42b7-bc3a-fc3a0ddfc8dd",
   "metadata": {},
   "source": [
    "We can observe here that the probabilities of all the outcomes add up to 1.0, but most of it is on the right from k = 6 through 10. The probabilies of getting 5 successful devices or less are very unlikely, as they are hugging 0. We can use this to reasonably assess how realistic the underlying success rate $ p $ is given an outcome of $ 10 $ trials yielding $ 8 $ success, $ 7 $ successes, and so on. \n",
    "\n",
    "If the industrial engineer claims the prototype has a 90% success rate, and you run 10 trials and get 8 successes, that necessarily does not mean the engineer was wrong. There is always a margin of give or take, just like a fair coin can have 4/10 heads or 6/10 heads, but the question is how likely is that outcome given that success rate? "
   ]
  },
  {
   "cell_type": "markdown",
   "id": "ec6adf71-bbae-4374-a929-03178504c4f1",
   "metadata": {},
   "source": [
    "## Multinomial Distribution"
   ]
  },
  {
   "cell_type": "markdown",
   "id": "6537f8bd-69b0-40a3-94a2-8086efd7ff6a",
   "metadata": {},
   "source": [
    "The **multinomial distribution** is just like the binomial distribution, but it allows more categories than just binary outcomes like True/False or Success/Failure. \n",
    "\n",
    "Let's say a pilot group tested the swimming MP3 player, and they were given a brief survey. Based on their experience, they can reply to the question \"How was your experience with the swimming MP3 player?\" and they can answer *Good*, *Okay*, and *Poor*. \n",
    "\n",
    "From our research we believe 60% of users will reply *Good*, 30% will reply *Okay*, and 10% will reply *Poor*. \n",
    "\n",
    "$ P(\\text{Great}) = .6 $ \n",
    "\n",
    "$ P(\\text{Okay}) = .3 $\n",
    "\n",
    "$ P(\\text{Poor}) = .1 $ \n",
    "\n",
    "How can we generalize this information in a way we can predict how likely of each category we will see in $ n $ trials? This is where the multinomial distribution will come in. Below using SciPy, we create a multinomial distribution with 10 trials, or $ n = 10 $. We also pass those three 3 probabilities for those three events. \n",
    "\n",
    "In the same order as the provided probabilities, we can call the `pmf()` function to look up the probability of getting those event-specific outcomes out of 10 trials. It is very important those numbers add up to 10, as we set $ n = 10 $. "
   ]
  },
  {
   "cell_type": "code",
   "execution_count": null,
   "id": "ae9b0ac9-b531-47e5-9d16-287facf340cf",
   "metadata": {},
   "outputs": [],
   "source": [
    "from scipy.stats import multinomial\n",
    "\n",
    "md = multinomial(n=10,p=[.6, .3, .1])\n",
    "\n",
    "print(\"What is the probability of 6 good, 3 okay, and 1 poor?\")\n",
    "print(md.pmf([6,3,1]))\n",
    "\n",
    "print(\"\\nWhat is the probability of 7 good, 2 okay, and 1 poor?\")\n",
    "print(md.pmf([7,2,1]))\n",
    "\n",
    "print(\"\\nWhat is the probability of 7 good, 1 okay, and 2 poor?\")\n",
    "print(md.pmf([7,1,2]))"
   ]
  },
  {
   "cell_type": "markdown",
   "id": "2e9e6dc2-cac6-471b-b5cf-ab611c9bedc9",
   "metadata": {},
   "source": [
    "Somewhat expectedly, outcomes that are closer to the .6, .3, and .1 probabilities are more likely. The further you venture away from those proportions the less likely they become. "
   ]
  },
  {
   "cell_type": "markdown",
   "id": "c9ac6b60-6435-467e-96ff-abb863e314ab",
   "metadata": {},
   "source": [
    "## Exercise \n",
    "\n",
    "You suspect your friend is not using a fair coin in a football game. You took the coin and flipped it 8 times, and it came up heads 7 times. What is the probability a fair coin with .5 probability for heads would yield 7 heads out of 8 coin flips? \n",
    "\n",
    "Complete the code below (replacing the question marks \"?\") to get the answer. "
   ]
  },
  {
   "cell_type": "code",
   "execution_count": null,
   "id": "d8a91a72-cacc-4708-b926-e7b0838aeee1",
   "metadata": {},
   "outputs": [],
   "source": [
    "from scipy.stats import binom\n",
    "\n",
    "# Set the number of trials and probability of success\n",
    "n = ?\n",
    "p = ?\n",
    "\n",
    "# Calculate the probability mass function (PMF)\n",
    "y = binom.pmf(?, ?, ?)\n",
    "\n",
    "print(\"What is the probability of 7 heads in 8 coin flips?\")\n",
    "print(y) "
   ]
  },
  {
   "cell_type": "markdown",
   "id": "37dc0c80-44b5-46be-a7b0-32b4a07d2ceb",
   "metadata": {},
   "source": [
    "### SCROLL DOWN FOR ANSWER\n",
    "|<br>\n",
    "|<br>\n",
    "|<br>\n",
    "|<br>\n",
    "|<br>\n",
    "|<br>\n",
    "|<br>\n",
    "|<br>\n",
    "|<br>\n",
    "|<br>\n",
    "|<br>\n",
    "|<br>\n",
    "|<br>\n",
    "|<br>\n",
    "|<br>\n",
    "|<br>\n",
    "|<br>\n",
    "|<br>\n",
    "|<br>\n",
    "|<br>\n",
    "|<br>\n",
    "|<br>\n",
    "|<br>\n",
    "v "
   ]
  },
  {
   "cell_type": "markdown",
   "id": "40d15f56-54b3-4d44-b163-34206e42e3fb",
   "metadata": {},
   "source": [
    "As shown in the code below, there is a $ .03 $ probability of getting 7 heads in 8 coin flips, if the coin is fair. Therefore we can be very suspicious that this coin is unfair, given how unlikely that is. If we gave it more coin flips we can use this to drive the probability down even further.  "
   ]
  },
  {
   "cell_type": "code",
   "execution_count": null,
   "id": "44e20b3a-41ee-467e-8c2a-f17600b33260",
   "metadata": {},
   "outputs": [],
   "source": [
    "from scipy.stats import binom\n",
    "\n",
    "# Set the number of trials and probability of success\n",
    "n = 8\n",
    "p = 0.5\n",
    "\n",
    "# Calculate the probability mass function (PMF)\n",
    "y = binom.pmf(7, n, p)\n",
    "\n",
    "print(\"What is the probability of 7 heads in 8 coin flips?\")\n",
    "print(y) # 0.031249999999999976"
   ]
  }
 ],
 "metadata": {
  "kernelspec": {
   "display_name": "Python 3 (ipykernel)",
   "language": "python",
   "name": "python3"
  },
  "language_info": {
   "codemirror_mode": {
    "name": "ipython",
    "version": 3
   },
   "file_extension": ".py",
   "mimetype": "text/x-python",
   "name": "python",
   "nbconvert_exporter": "python",
   "pygments_lexer": "ipython3",
   "version": "3.11.5"
  }
 },
 "nbformat": 4,
 "nbformat_minor": 5
}
