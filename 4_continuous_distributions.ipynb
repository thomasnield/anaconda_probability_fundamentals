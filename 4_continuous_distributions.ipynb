{
 "cells": [
  {
   "cell_type": "markdown",
   "id": "91edcec7-56d8-49f2-be10-3924666dcd96",
   "metadata": {},
   "source": [
    "# Continuous Distributions"
   ]
  },
  {
   "cell_type": "markdown",
   "id": "f590744f-73e4-42c7-a769-6972d255f574",
   "metadata": {},
   "source": [
    "**Continuous distributions** are probability distributions that deal with continuous values (e.g. decimals, floating point values) rather than discrete values (binary, integer, natural number values). The most famous is the normal distribution, which is commonly found in nature and statistics. We will also use the exponential distribution and beta distribution to discover two more useful utilities. "
   ]
  },
  {
   "cell_type": "markdown",
   "id": "690abcd7-a9ae-49c8-bc1d-0418f60e52a2",
   "metadata": {},
   "source": [
    "## Normal Distribution"
   ]
  },
  {
   "cell_type": "markdown",
   "id": "c48f8060-3188-4f10-8e12-786b20327fad",
   "metadata": {},
   "source": [
    "The **normal distribution** is a symmetrical, bell-shaped curve that appears in many natural and scientific phenomena. Even for data that does not follow the normal distribution, it still generalizes to a normal distribution due to the central limit theorem which we will also briefly talk about. \n",
    "\n",
    "Let's say we expect a laptop to have 12 hours of battery life with a standard deviation of 1 hour. The standard deviation defines how \"spread out\" the bell curve is. The smaller the standard deviation the more consistent we expect the battery life to be. \n",
    "\n",
    "Below we use matplotlib to plot the normal distribution's **probability density function (PDF)** which is the bell shaped curve showing how likely we expect each value (in hours)."
   ]
  },
  {
   "cell_type": "code",
   "execution_count": null,
   "id": "18b89a3b-7303-4256-9a80-e6bf29ded912",
   "metadata": {},
   "outputs": [],
   "source": [
    "from scipy.stats import norm\n",
    "import numpy as np \n",
    "import matplotlib.pyplot as plt\n",
    "\n",
    "# define mean and standard deviation\n",
    "mean = 12\n",
    "std = 1\n",
    "\n",
    "# have axis range capture ± 3 standard deviations around mean \n",
    "x_range = np.arange(mean-std*3, mean+std*3, .01) \n",
    "\n",
    "# plot the normal PDF \n",
    "plt.plot(x_range, norm.pdf(x_range, mean, std)) # bell curve \n",
    "plt.show()"
   ]
  },
  {
   "cell_type": "markdown",
   "id": "59e21587-9673-4f63-b258-03aac74cce2d",
   "metadata": {},
   "source": [
    "The probability density function (PDF) formula for a normal distribution is defined as...\n",
    "\n",
    "$ \\Large f(x) = \\frac{1}{\\sqrt{2\\pi\\sigma^2}} e^{-\\frac{(x-\\mu)^2}{2\\sigma^2}} $ \n",
    "\n",
    "where $ \\mu $ is the mean, $ \\sigma $ is the standard deviation, $ x $ is the input variable, and $ f(x) $ is the outputted likelihood. \n",
    "\n",
    "**There are a couple of important properties surrounding the normal distribution.**\n",
    "\n",
    "* It is symmetrical down the center. \n",
    "* The top of the bell curve, the highest likelihood is at the mean.\n",
    "* How \"spread out\" the the tails are is defined by standard deviation.\n",
    "* The tails forever approach the x-axis but never reach it. \n",
    "* The area under the whole curve, like any probability distribution, is 1.0."
   ]
  },
  {
   "cell_type": "markdown",
   "id": "1f40dcd3-d42f-4009-bfa6-730577b39ce3",
   "metadata": {},
   "source": [
    "Looking up a specific likelihood *y*-value for a given *x*-value is not productive. Instead, we use ranges of *x* and capture areas for that range, which gives us a probability. For example, **what is the probability of getting between 10 and 14 hours of battery for a given charge**? We calculate the area/probability for that range as depicted below. "
   ]
  },
  {
   "cell_type": "code",
   "execution_count": null,
   "id": "653b7195-9b78-433b-a41d-dd1c74e28d7c",
   "metadata": {},
   "outputs": [],
   "source": [
    "import matplotlib.pyplot as plt\n",
    "import numpy as np\n",
    "from scipy.stats import norm\n",
    "\n",
    "# define mean and standard deviation\n",
    "mean = 12\n",
    "std = 1\n",
    "\n",
    "# lower and upper bounds of area \n",
    "lower_x, upper_x = -3*std+mean, 3*std+mean \n",
    "lower_area_x, upper_area_x = 10, 14 \n",
    "\n",
    "# have axis range capture ± 3 standard deviations around mean \n",
    "x = np.arange(lower_x, upper_x, .01) \n",
    "y = norm.pdf(x, mean, std)\n",
    "\n",
    "# plot the normal PDF \n",
    "plt.plot(x, y) # bell curve \n",
    "\n",
    "# Calculate the shaded area under the curve \n",
    "shaded_area = norm.cdf(upper_area_x, mean, std) - norm.cdf(lower_area_x, mean, std)\n",
    "\n",
    "# Plot the normal distribution and the shaded area\n",
    "x_area_range = (x >= lower_area_x) & (x <= upper_area_x)\n",
    "plt.fill_between(x[x_area_range], y[x_area_range], 0, alpha=0.5, color='red')\n",
    "plt.xlabel('Value')\n",
    "plt.ylabel('Probability density')\n",
    "plt.title('Normal distribution with mean = {} and standard deviation = {}'.format(mean, std))\n",
    "plt.text(11.4, 0.1, 'Area = {:.2f}'.format(shaded_area))\n",
    "plt.show()"
   ]
  },
  {
   "cell_type": "markdown",
   "id": "1098b2cd-3a17-4120-8b49-11c8a2991267",
   "metadata": {},
   "source": [
    "The area is $ .95 $ for that range, so theres a 95% probability a battery charge will last between 10 and 14 hours. Putting the matplotlib code aside, we can calculate this using the **cumulative density function (CDF)** which captures the area from negative infinity up to a given x-value. We can calculate the area up to 14, and then subtract the area up to 10. "
   ]
  },
  {
   "cell_type": "code",
   "execution_count": null,
   "id": "9d19196d-4f75-4a6b-9f2a-05c404aae121",
   "metadata": {},
   "outputs": [],
   "source": [
    "from scipy.stats import norm\n",
    "\n",
    "mean, std = 12, 1\n",
    "\n",
    "# Calculate the shaded area under the curve \n",
    "shaded_area = norm.cdf(14, mean, std) - norm.cdf(10, mean, std)\n",
    "\n",
    "print(shaded_area) # 0.9544997361036416"
   ]
  },
  {
   "cell_type": "markdown",
   "id": "490061af-4cf0-421c-bf5c-6c1b59d576e5",
   "metadata": {},
   "source": [
    "If you want to see what the cumulative density function looks like, you can plot it using matplotlib. Note it is an S-shaped curve that reaches $ .5 $ at the mean, and levels off near $ 1.0 $ as you go further down the right tail of the PDF. "
   ]
  },
  {
   "cell_type": "code",
   "execution_count": null,
   "id": "0c7d3eb3-f8c5-4719-842f-890f7b1aa3e9",
   "metadata": {},
   "outputs": [],
   "source": [
    "# plot PDF and CDF side-by-side \n",
    "plt.plot(x, norm.pdf(x, mean, std), color=\"blue\") # probability density function \n",
    "plt.plot(x, norm.cdf(x, mean, std), color=\"red\") # cumulative density function \n",
    "plt.show()"
   ]
  },
  {
   "cell_type": "markdown",
   "id": "c20a6626-4786-46ce-a0a8-e80d10399679",
   "metadata": {},
   "source": [
    "There is a lot of interesting applications to the normal distribution from a statistics perspective, from the central limit theorem to hypothesis testing which is covered in [another Anaconda course](https://learning.anaconda.cloud/statistics-and-hypothesis-testing). But let's keep the focus on probability. We can inverse the cumulative density function to create the **percent point function (PPF)**, which allows us to look up an x-value that captures a given area (from the left tail to that x-value). "
   ]
  },
  {
   "cell_type": "code",
   "execution_count": null,
   "id": "08a174a2-46cc-4ef0-b9e8-a41540f3b9b9",
   "metadata": {},
   "outputs": [],
   "source": [
    "p = np.arange(0, 1, .01) \n",
    "plt.plot(p, norm.ppf(p, mean, std), color=\"red\") # percent point function \n",
    "plt.show()"
   ]
  },
  {
   "cell_type": "markdown",
   "id": "ba791797-c070-43ca-8e08-22322c54e911",
   "metadata": {},
   "source": [
    "For example, what x-value gives me 80% of the area to the left of it? That can be answered using the PPF. "
   ]
  },
  {
   "cell_type": "code",
   "execution_count": null,
   "id": "0098bd23-1c5c-458c-bcc4-8b61f03d425b",
   "metadata": {
    "scrolled": true
   },
   "outputs": [],
   "source": [
    "norm.ppf(.8, mean, std) # 12.841621233572914"
   ]
  },
  {
   "cell_type": "markdown",
   "id": "6f1da17c-c570-48fa-ae5f-c36ba210fffe",
   "metadata": {},
   "source": [
    "To tie this back, we now know $  12.841621233572914 $ gives us $ .8 $ of the area to the left. So we expect 80% of battery charges to last $ 12.84 $ hours or less. "
   ]
  },
  {
   "cell_type": "code",
   "execution_count": null,
   "id": "b135b211-213b-42c6-84e6-a3919b43a2a4",
   "metadata": {},
   "outputs": [],
   "source": [
    "x_area_range = (x <= 12.841621233572914)\n",
    "plt.plot(x, norm.pdf(x, mean, std), color=\"blue\") # probability density function \n",
    "plt.fill_between(x[x_area_range], y[x_area_range], 0, alpha=0.5, color='red')\n",
    "plt.text(11.4, 0.1, 'Area = {:.2f}'.format(.8))\n",
    "plt.show()"
   ]
  },
  {
   "cell_type": "markdown",
   "id": "0071184a-a4b6-484e-b0ad-56459b0e53b7",
   "metadata": {},
   "source": [
    "## Exponential Distribution"
   ]
  },
  {
   "cell_type": "markdown",
   "id": "8b907039-2247-4934-9600-f9c6e1ef2f0c",
   "metadata": {},
   "source": [
    "Another useful continuous distribution is the **exponential distribution**, which is often used to model how much time occurs between events given an average duration. The formula for the probability density function of an exponential distribution is...\n",
    "\n",
    "$ \\Large f(x) = \\lambda e^{-\\lambda x} $ \n",
    "\n",
    "where $ \\lambda $ is the average number of events to occur in a defined period. Let's say we release a YouTube video and we expect it will there will be on average 2 views every minute. How much time can we expect to occur between each view? This is what the exponential distribution helps us answer. \n",
    "\n",
    "Let's plot using SciPy as shown below. Note we have to input the lambda rate through the `scale` argument as $ \\frac{1}{\\lambda} $. "
   ]
  },
  {
   "cell_type": "code",
   "execution_count": null,
   "id": "d931602b-1732-42f1-a9d0-a9845c55a33a",
   "metadata": {},
   "outputs": [],
   "source": [
    "from scipy.stats import expon \n",
    "\n",
    "x = np.arange(.01, 3, .01)\n",
    "y = expon.pdf(x, scale = 1/lambda_rate)\n",
    "\n",
    "lambda_rate = 2 # mean views per minute \n",
    "\n",
    "plt.plot(x, y)\n",
    "plt.show()"
   ]
  },
  {
   "cell_type": "markdown",
   "id": "c59db174-f239-4df7-96ce-8a278c3d2054",
   "metadata": {},
   "source": [
    "Now let's ask what is the probability after a given view, the next view will happen after 1 to 2 minutes? We want to find the area as shaded below. "
   ]
  },
  {
   "cell_type": "code",
   "execution_count": null,
   "id": "6e2237c5-2de7-41ff-8839-2e5980c9796b",
   "metadata": {},
   "outputs": [],
   "source": [
    "lower_area_x, upper_area_x = 1, 2\n",
    "x_area_range = (x >= lower_area_x) & (x <= upper_area_x)\n",
    "\n",
    "plt.plot(x, expon.pdf(x, scale = 1/lambda_rate))\n",
    "plt.fill_between(x[x_area_range], y[x_area_range], 0, alpha=0.5, color='red')\n",
    "plt.show()"
   ]
  },
  {
   "cell_type": "markdown",
   "id": "68ed0dc1-249b-4862-8f76-d2ea0baae0f0",
   "metadata": {},
   "source": [
    "Just like we did with the normal distribution, we can use the cumulative density function (CDF) to calculate the area all the way up to 2, and then subtract all the area up to 1. This would return an area/probability of `.117`. "
   ]
  },
  {
   "cell_type": "code",
   "execution_count": null,
   "id": "cc070aa2-6835-4b34-96ef-9c3c8876e8c1",
   "metadata": {},
   "outputs": [],
   "source": [
    "expon.cdf(2, scale = 1/lambda_rate) - expon.cdf(1, scale = 1/lambda_rate)"
   ]
  },
  {
   "cell_type": "markdown",
   "id": "4079af87-e72b-4240-a2f6-195efb4c70c0",
   "metadata": {},
   "source": [
    "So there is an 11.7% probability the next view will occur after 1 to 2 minutes. "
   ]
  },
  {
   "cell_type": "markdown",
   "id": "baa2b360-5481-4751-8ac3-d7d83658c3d8",
   "metadata": {},
   "source": [
    "## Beta Distribution"
   ]
  },
  {
   "cell_type": "markdown",
   "id": "c18268e4-5151-45d0-b320-ae83e9cecaf9",
   "metadata": {},
   "source": [
    "Here is one more continuous distribution that is useful. The **beta distribution** measures the probabilities of probabilities. If that sounds too meta, do not worry. Let's return to a problem we visited in the last section. \n",
    "\n",
    "Recall in the last section we used the binomial distribution to measure out of *n* trials, what is the probability for seeing *k* successes/events given *p* probability? We wanted to know how likely it would be with a 90% success rate, that we would see 8 working swimming mp3 players out of 10. Refer to the chart below to trigger your memory. "
   ]
  },
  {
   "cell_type": "code",
   "execution_count": null,
   "id": "843287c6-a56c-46ed-8aa0-532729f999e2",
   "metadata": {},
   "outputs": [],
   "source": [
    "import numpy as np\n",
    "import matplotlib.pyplot as plt\n",
    "from scipy.stats import binom\n",
    "\n",
    "# Set the number of trials and probability of success\n",
    "n = 10\n",
    "p = 0.9\n",
    "\n",
    "# Generate x-values for the plot\n",
    "x = np.arange(0, n + 1)\n",
    "\n",
    "# Calculate the probability mass function (PMF)\n",
    "pmf = binom.pmf(x, n, p)\n",
    "\n",
    "# Plot the PMF\n",
    "plt.bar(x, pmf, align='center')\n",
    "\n",
    "# Set the title and labels\n",
    "plt.title('Binomial Distribution')\n",
    "plt.xlabel('Number of successes')\n",
    "plt.ylabel('Probability')\n",
    "\n",
    "# Show the plot\n",
    "plt.show()"
   ]
  },
  {
   "cell_type": "markdown",
   "id": "7511af3c-fb67-4472-b749-71a37cb523aa",
   "metadata": {},
   "source": [
    "But what if we flipped the question? Rather than ask *how probable is 8/10 successes given an underlying 90% success rate*, let's instead ask *how likely is each probability of success (from 0.0 to 1.0) given 8/10 successes?* This is exactly what the beta distribution does. \n",
    "\n",
    "Let's plot the beta distribution below with 8 successes and 2 failures as our alpha/beta parameters. "
   ]
  },
  {
   "cell_type": "code",
   "execution_count": null,
   "id": "2bd50339-690d-4572-a089-e74250dd0207",
   "metadata": {},
   "outputs": [],
   "source": [
    "from scipy.stats import beta \n",
    "\n",
    "a, b = 8, 2 # successes, failures \n",
    "\n",
    "x = np.arange(0, 1.01, .01)\n",
    "y = beta.pdf(x, a, b)\n",
    "\n",
    "plt.plot(x, y)\n",
    "plt.show()"
   ]
  },
  {
   "cell_type": "markdown",
   "id": "96e1b795-4bfa-4818-9f61-b8ef53bb9264",
   "metadata": {},
   "source": [
    "Notice how the x-axis reflects underlying probabilites of success between $ 0.0 $ and $ 1.0 $. The y-axis reflects how likely that probability of success is, given we have had 8/10 successes. Like all continuous distributions, we calculate probabilies using areas under the curve. \n",
    "\n",
    "For example given 8/10 succcesses, what is the probability the underlying rate of success is between $ .6 $ and $ .9 $? Let's first visualize this area of interest below. "
   ]
  },
  {
   "cell_type": "code",
   "execution_count": null,
   "id": "9fab7449-dd74-4f8d-87a8-c587f0ccaa9f",
   "metadata": {},
   "outputs": [],
   "source": [
    "lower_area_x, upper_area_x = .6, .9\n",
    "x_area_range = (x >= lower_area_x) & (x <= upper_area_x)\n",
    "\n",
    "plt.plot(x, beta.pdf(x, a, b))\n",
    "plt.fill_between(x[x_area_range], y[x_area_range], 0, alpha=.5,  color='red')\n",
    "plt.show()"
   ]
  },
  {
   "cell_type": "markdown",
   "id": "8299f427-6eb4-4b7b-a9a4-6c669b6c9b08",
   "metadata": {},
   "source": [
    "We can then answer this, once again, with the cumulative density function, capturing the area all the way up to $ .9 $ and then subtracting the area up to $ .6 $. "
   ]
  },
  {
   "cell_type": "code",
   "execution_count": null,
   "id": "d58b1c97-286a-4053-a9e4-03c978dd63b9",
   "metadata": {},
   "outputs": [],
   "source": [
    "beta.cdf(.9, a, b) - beta.cdf(.6, a, b)"
   ]
  },
  {
   "cell_type": "markdown",
   "id": "eb6d8608-39ac-4070-9130-70813da4ada7",
   "metadata": {},
   "source": [
    "That gives us an area of $ .704 $, so a 70.4% probability the underlying rate of working mp3 players is between $ .6 $ and $ .8 $. "
   ]
  },
  {
   "cell_type": "markdown",
   "id": "902e98d8-1cfc-44a1-ae85-8fe401c3cfb1",
   "metadata": {},
   "source": [
    "## Exercise "
   ]
  },
  {
   "cell_type": "markdown",
   "id": "67b49952-01a7-4a34-83b9-9132e3261ee9",
   "metadata": {},
   "source": [
    "![img](data:image/svg+xml;base64,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)\n",
    "\n",
    "You are trying to build a normal distribution of how many grams of beans makes an optimal 16 oz cup of coffee. After surveying hundreds baristas, you have determined the mean to be 33 grams with 1.5 gram standard deviation.\n",
    "\n",
    "What is the probability the \"optimal\" cup of 16 coffee is between 31 and 35 grams? Complete the code below to find the answer. "
   ]
  },
  {
   "cell_type": "code",
   "execution_count": null,
   "id": "3615d491-9809-4058-a4cb-49d0c927f82d",
   "metadata": {
    "scrolled": true
   },
   "outputs": [],
   "source": [
    "from scipy.stats import norm\n",
    "\n",
    "mean, std = 33, 1.5\n",
    "\n",
    "p = norm.cdf(?,?,?) - ? \n",
    "\n",
    "print(p)"
   ]
  },
  {
   "cell_type": "markdown",
   "id": "a2cb835f-53fe-4caf-9cff-7488be78036a",
   "metadata": {},
   "source": [
    "### SCROLL DOWN FOR ANSWER\n",
    "|<br>\n",
    "|<br>\n",
    "|<br>\n",
    "|<br>\n",
    "|<br>\n",
    "|<br>\n",
    "|<br>\n",
    "|<br>\n",
    "|<br>\n",
    "|<br>\n",
    "|<br>\n",
    "|<br>\n",
    "|<br>\n",
    "|<br>\n",
    "|<br>\n",
    "|<br>\n",
    "|<br>\n",
    "|<br>\n",
    "|<br>\n",
    "|<br>\n",
    "|<br>\n",
    "|<br>\n",
    "|<br>\n",
    "v "
   ]
  },
  {
   "cell_type": "markdown",
   "id": "01d92049-8166-41ee-9b24-b7129fd18393",
   "metadata": {},
   "source": [
    "The probability of the optimal number of grams for a 16 oz cup of coffee being between 31 and 35 is $ .8175 $. You can calculate this by using the normal distribution's cumulative density function (CDF). Calculate the area up to 35, and then subtract the area up to 31. "
   ]
  },
  {
   "cell_type": "code",
   "execution_count": null,
   "id": "528af258-5424-4c6f-b5b6-24f66c32722e",
   "metadata": {},
   "outputs": [],
   "source": [
    "from scipy.stats import norm\n",
    "\n",
    "mean, std = 33, 1.5\n",
    "\n",
    "p = norm.cdf(35,mean,std) - norm.cdf(31,mean,std)\n",
    "\n",
    "print(p)"
   ]
  }
 ],
 "metadata": {
  "kernelspec": {
   "display_name": "Python 3 (ipykernel)",
   "language": "python",
   "name": "python3"
  },
  "language_info": {
   "codemirror_mode": {
    "name": "ipython",
    "version": 3
   },
   "file_extension": ".py",
   "mimetype": "text/x-python",
   "name": "python",
   "nbconvert_exporter": "python",
   "pygments_lexer": "ipython3",
   "version": "3.11.5"
  }
 },
 "nbformat": 4,
 "nbformat_minor": 5
}
