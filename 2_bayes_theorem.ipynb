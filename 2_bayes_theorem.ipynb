{
 "cells": [
  {
   "cell_type": "markdown",
   "id": "af13a224-ff1e-4312-8bd7-bedb2ebb72c0",
   "metadata": {},
   "source": [
    "# Bayes Theorem "
   ]
  },
  {
   "cell_type": "markdown",
   "id": "c0e732d0-cce2-4542-ab02-0e148447846b",
   "metadata": {},
   "source": [
    "*Bayes Theorem* is a famous and useful formula for flipping the direction of a conditional probability. It is important for many applications in machine learning, data science, and statistics. From discovering the effectiveness of a drug to Naive Bayes in machine learning, Bayes Theorem will be an inevitable encounter in your journey. \n",
    "\n",
    "We will learn about Bayes Theorem by studying the link (or lack thereof) between video games and homicidal behavior. We will also learn how it can apply to the confusion matrix, a critical validation tool in machine learning. "
   ]
  },
  {
   "cell_type": "markdown",
   "id": "8f31d333-8fca-4811-82b5-ffd9ca4ef5e5",
   "metadata": {},
   "source": [
    "## Bayes Theorem Formula"
   ]
  },
  {
   "cell_type": "markdown",
   "id": "228ea7cc-e700-4e7a-bc78-547b5e2c173e",
   "metadata": {},
   "source": [
    "The formula for Bayes Theorem fundamentally switches a conditional probability's direction, such as turning the the $ P(B|A) $ into the $ P(A|B) $.\n",
    "\n",
    "$ \\Large P(A|B) = \\frac{P(B|A) \\times P(A)}{P(B)} $ \n",
    "\n",
    "There are a few other pieces you need to perform this flip though. You need the $ P(A) $ and the $ P(B) $. As you will see in our example, Bayes Theorem is a game of proportions. \n"
   ]
  },
  {
   "cell_type": "markdown",
   "id": "f14bf06b-3c96-482f-ab3f-66ae5a9e7f62",
   "metadata": {},
   "source": [
    "## Understanding Bayes Theorem"
   ]
  },
  {
   "cell_type": "markdown",
   "id": "2edcea0e-5760-488b-8e6e-60d31ec00050",
   "metadata": {},
   "source": [
    "There have been several controversial allegations about a link between violence and video games, which have come and gone over the decades. It [cyclically falls into and out of the news cycle](https://youtu.be/0oPVxqCx1Lw?si=l3jaX_flri_9TJIa), seemingly after a tragic event involving violent youths. While first person shooters and \"rated M for Mature\" titles can indeed be uncomfortable or morally questionable, we have to consider the empirical evidence whether these video games cause homicidal behavior. \n",
    "\n",
    "![img](data:image/svg+xml;base64,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)\n",
    "\n",
    "Let's say a special interest group cites some data that 85% of homicidal criminals have played violent video games in the United States. \n",
    "\n",
    "$ P(\\text{gamer}|\\text{homicidal}) = .85 $ \n",
    "\n",
    "While this might send politicians and media into a tizzy, we should never take any claim like this at face value. We could scrutinize for biased sampling or faulty assumptions in the study. Perhaps we would even isolate age ranges and exposure to violent video games at different ages. But even then, we will show how marginalized this number becomes in the bigger picture. \n",
    "\n",
    "Consider this: is the probability of someone being *a gamer given they are homicidal* the same as the probabilty of being *homicidal given they are a gamer*? The answer is a resounding no! These two conditional probabilities are very different, and we need to account for the latter. \n",
    "\n",
    "$  P(\\text{gamer}|\\text{homicidal}) = .85 $ \n",
    "\n",
    "$ P(\\text{homicidal}|\\text{gamer}) = \\text{ ? } $ \n"
   ]
  },
  {
   "cell_type": "markdown",
   "id": "3c24cd12-5c84-46f5-be3f-fcbcb6c070b6",
   "metadata": {},
   "source": [
    "Let's gather some further statistics. According to the Federal Bureau of Investigation, there are 17,251 known homicidal offenders in the United States in 2017. There are approximately 324 million people in the United States that year as well. From my rough estimations based on industry research, 19% of the population plays violent video games. \n",
    "\n",
    "Let's write down these probabilities based on the data. \n",
    "\n",
    "$  P(\\text{homicidal}) = \\frac{17,251}{324,000,000} = .00005 $ \n",
    "\n",
    "$ P(\\text{gamer}) = \\frac{61,560,000}{324,000,000} = .19 $ \n",
    "\n",
    "Before we move on ask yourself this. Does something feel off looking at these two numbers above given the claims about video games causing homicidal behavior? Think for a moment and move on. \n",
    "\n",
    "Reason again that 19% of the population plays violent video games, and yet only .005% of the population is homicidal. If video games were making people homicidal, shouldn't we be seeing A LOT more of the population being homicidal... say 19% or so? If these two numbers feel wide to you, you would be correct to think that way!\n",
    "\n",
    "The way we can formalize this is to use Bayes Theorem which again flips a conditional probability $ P(B|A) $ into the $ P(A|B) $. \n",
    "\n",
    "$ P(A|B) = \\frac{P(B|A) \\times P(A)}{P(B)} $ \n",
    "\n",
    "If $ P(B) $ is $ P(\\text{gamer}) $ and $ P(A) $ is $ P(\\text{homicidal}) $, then we can substitute \n",
    "\n",
    "$ P(\\text{gamer}|\\text{homicidal}) = .85 $ \n",
    "\n",
    "$  P(\\text{homicidal}) = .00005 $ \n",
    "\n",
    "$  P(\\text{gamer}) = .19 $ \n",
    "\n",
    "$   P(\\text{homicidal}|\\text{gamer}) = \\frac{P(\\text{gamer}|\\text{homicidal}) \\times P(\\text{homicidal})}{P(\\text{gamer})} = \\frac{.85 \\times .00005}{.19} = .0002 $ \n",
    "\n",
    "We can also do this in Python using simple arithmetic operators. "
   ]
  },
  {
   "cell_type": "code",
   "execution_count": null,
   "id": "d9b2e660-6ebe-4f9a-87b0-430f602dc250",
   "metadata": {},
   "outputs": [],
   "source": [
    "p_gamer_given_homicdal = .85\n",
    "p_homicidal = .00005\n",
    "p_gamer = .19\n",
    "\n",
    "p_homicidal_given_gamer = p_gamer_given_homicdal * p_homicidal / p_gamer\n",
    "\n",
    "print(p_homicidal_given_gamer) # 0.0002236842105263158"
   ]
  },
  {
   "cell_type": "markdown",
   "id": "72dc601e-38e1-4a7a-ba2a-f5faacfa3684",
   "metadata": {},
   "source": [
    "Wow, so let's talk about the elephant in the room. Sure, somebody can claim 85% of homicidal people are gamers. However, only .02% of gamers are homicidal. Let's take a look at this visualized animation below to understand why, and see why we get deceived by percentages. "
   ]
  },
  {
   "cell_type": "markdown",
   "id": "6dc158d7-64fc-4f82-b90c-b185b987aaf1",
   "metadata": {},
   "source": [
    "\n",
    "<video src=\"https://github.com/thomasnield/anaconda_probability_fundamentals/raw/main/media/02_VennDiagramBayes.mp4\" controls=\"controls\" style=\"max-width: 730px;\">\n",
    "</video>\n"
   ]
  },
  {
   "cell_type": "markdown",
   "id": "5d44d7ad-530d-4b18-82cb-0ca369674f50",
   "metadata": {},
   "source": [
    "Now of course, the media can spin this and say \"gamers are 4x more likely to be homicidal\" but the reality is we are comparing tiny numbers to tiny numbers. This is like saying homicidal people are 4x more likely to wear hats and glasses. Effectively we are taking common attributes and associating it with uncommon ones, and is [a common source for many fallacies](https://en.wikipedia.org/wiki/Base_rate_fallacy). It can also rear its ugly head in machine learning and study validation, which we will discuss next. \n"
   ]
  },
  {
   "cell_type": "markdown",
   "id": "1ed4dbf9-cd7a-4652-a38a-541c757791cd",
   "metadata": {},
   "source": [
    "## Bayes Theorem and Confusion Matrices"
   ]
  },
  {
   "cell_type": "markdown",
   "id": "e9985f85-a3b4-49f7-bbb9-e280698e9942",
   "metadata": {},
   "source": [
    "Let's apply Bayes Theorem to machine learning. Let's say we have a fancy logistic regression or deep learning algorithm that was trained on some data and predicts whether someone has a disease. We want to evaluate the results using a tool called the **confusion matrix**, which tracks true positives, false positives, true negatives, and false negatives. \n",
    "\n",
    "Here is some simplified scikit-learn code below demonstrating how to use a confusion matrix. The `y_pred` would typically be the test output of a classifcation model (e.g. a logistic regression, decision tree, or neural network) and the `y_true` would be our _ground truth_ or actual values. "
   ]
  },
  {
   "cell_type": "code",
   "execution_count": null,
   "id": "08bf0784-4a44-4fdb-99c4-dd41de3b1d23",
   "metadata": {},
   "outputs": [],
   "source": [
    "import numpy as np \n",
    "from sklearn.metrics import confusion_matrix\n",
    "\n",
    "y_pred = np.array([1,0,1,1,1,1,0,0,0,1,1,1,1,1,1,0,0,0,0,0,0,1,1,1,1,0,0,0,0,0,1,0,0,0,1,0])\n",
    "y_true = np.array([1,0,1,1,1,1,0,0,0,1,1,1,1,0,1,0,0,0,1,0,0,1,0,1,1,0,0,0,0,0,0,0,0,0,1,0])\n",
    "\n",
    "'''\n",
    "[[truepositives falsenegatives]\n",
    " [falsepositives truenegatives]]\n",
    " '''\n",
    "matrix = confusion_matrix(y_true=y_true, y_pred=y_pred, normalize=None)\n",
    "print(matrix)\n",
    "'''\n",
    "[[18  3]\n",
    " [ 1 14]]\n",
    "'''"
   ]
  },
  {
   "cell_type": "markdown",
   "id": "8d00de73-34a0-42c2-b0c9-95bf63113847",
   "metadata": {},
   "source": [
    "Here is the result formatted. \n",
    "\n",
    "|          | Disease | No Disease |\n",
    "|----------|---------|------------|\n",
    "| Positive | 18      | 3          |\n",
    "| Negative | 1       | 14         |\n",
    "\n",
    "We can calculate easily from this that if someone has the disease, they are $ 94.7 $ % likely to test positive, which sounds promising. \n",
    "\n",
    "$ P(\\text{positive}|\\text{disease}) = \\frac{18}{18+3} = .947 $\n",
    "\n",
    "But what if this sample is highly biased to deal with class imbalance, which is an open problem in machine learning? **Class imbalance** is not having enough data equitably between the *true* and *false* cases. For example if only 1% of the population has a disease, that would cause the machine learning algorithm to simply predict *nobody* has the disease, as that would result in 99% accuracy. This is why we cannot trust accuracy metrics at face value, and use confusion matrices and Bayes Theorem accordingly. \n",
    "\n",
    "Let's say we do find that statistic, that only 1% of the population has the disease. \n",
    "\n",
    "$ P(\\text{disease}|\\text{positive}) = \\frac{P(\\text{positive}|\\text{disease}) \\times P(\\text{disease})}{P(\\text{positive})} $ \n",
    "\n",
    "$ P(\\text{disease}|\\text{positive}) = \\frac{.947 \\times .01}{.583} = \\textbf{.016} $\n",
    "\n",
    "Shoot! So you mean to tell me that if we account for 1% of the population actually having the disease, then the probability of having the disease given a positive test is only 1.6%? This just shows how quickly performance can nosedive and the confusion matrix does not account for the whole population, especially if the sample was deliberately biased! \n",
    "\n",
    "> 3Blue1Brown has a great video on the [medical testing paradox and Bayes Theorem.](https://www.youtube.com/watch?v=lG4VkPoG3ko)\n",
    "\n",
    "Whether we are talking violent video games, machine learning validation, or medical testing, Bayes Theorem shows us how easily we can get mislead by percentages and we should always check ourselves accordingly. "
   ]
  },
  {
   "cell_type": "markdown",
   "id": "3a6032cd-86a2-4359-9902-bfe28b6a007c",
   "metadata": {},
   "source": [
    "## Normalizing Constant"
   ]
  },
  {
   "cell_type": "markdown",
   "id": "c406394d-7725-4b2a-bc80-28d34bdbf493",
   "metadata": {},
   "source": [
    "When working out conditional probability and Bayes Theorem problems, you may occasionally need to work with probabilities when an event DOES NOT happen. Thankfully, there is a useful conditional probability formula called the **normalizing constant** that will help us identify those negated event probabilities. \n",
    "\n",
    "$ \\Large P(A) = P(A|B) \\times P(B) + P(A|'B) \\times P('B) $ "
   ]
  },
  {
   "cell_type": "markdown",
   "id": "c9a5ea12-5292-4693-bc7c-1d88ce66b44d",
   "metadata": {},
   "source": [
    "Let's say there is a 30% chance of rain $ A $ today, and a 40% chance your umbrella order will arrive on time $ B $. But if it rains, there is only a 20% chance of your order arriving on time. To run errands, there needs to be no rain or your umbrella arrives. \n",
    "\n",
    "So we are provided the following immediately from the word problem above. \n",
    "\n",
    "$  P(\\text{rain}) = .3 $\n",
    "\n",
    "$  P(\\text{on time}) = .4 $\n",
    "\n",
    "$  P(\\text{on time}|\\text{rain}) = .2 $\n",
    "\n",
    "But we need to find the probability of $ P(\\text{on time}|\\text{no rain}) $. Thankfully we can use the normalizing constant formula to solve this.\n",
    "\n",
    "$  P(A) = P(A|B) \\times P(B) + P(A|'B) \\times P('B) $ \n",
    "\n",
    "$  P(\\text{on time}) = P(\\text{on time}|\\text{rain}) \\times P(\\text{rain}) + P(\\text{on time}|\\text{no rain}) \\times P(\\text{no rain}) $ \n"
   ]
  },
  {
   "cell_type": "markdown",
   "id": "63ab3601-78d7-4b7e-89ed-31e9b46e2248",
   "metadata": {},
   "source": [
    "Substitute the values we do have and then solve algebraically for $  P(\\text{on time}|\\text{no rain}) $ from there. "
   ]
  },
  {
   "cell_type": "markdown",
   "id": "0cd113bc-cff3-455a-889f-b8323e0e8581",
   "metadata": {},
   "source": [
    "$  .4 = .2 \\times .3 + P(\\text{on time}|\\text{no rain}) \\times (1 - .3) $ \n",
    "\n",
    "$  P(\\text{on time}|\\text{no rain}) = \\mathbf{.486} $"
   ]
  },
  {
   "cell_type": "markdown",
   "id": "a85d3683-b6aa-4632-99b2-f55bab69be0c",
   "metadata": {},
   "source": [
    "We now have everything we need to solve for our union probability. Remember, we wanted to find the probability of no rain or the umbrella arrives on time. \n",
    "\n",
    "$  P(\\text{no rain} \\cup \\text{on time}) = P(\\text{no rain}) + P(\\text{on time}) - P(\\text{no rain}) \\times P(\\text{on time}|\\text{no rain}) $ \n",
    "\n",
    "$  P(\\text{no rain} \\cup \\text{on time})  = 7 + .4 - .7 \\times .486 = \\mathbf{.7598} $ \n",
    "\n",
    "Therefore, there is a 75.98% probability we will be able to run our errands (it does not rain *OR* the umbrella arrives on time). "
   ]
  },
  {
   "attachments": {},
   "cell_type": "markdown",
   "id": "d1e8cb3d-3875-4599-bbf8-a5b6e337b61f",
   "metadata": {},
   "source": [
    "## Exercise\n",
    "\n",
    "An electric car company announced they have a new \"AI system\" that detects worn tires with 95% accuracy and notifies the driver to replace them. \n",
    "\n",
    "At any given time though, only 5% of the tires on the road need to be replaced, and the system is flagging positives 7% of the time. \n",
    "\n",
    "What is the probability of a tire actually being worn if it tested positive? Complete the Python code below (replacing the question marks \"?\") to calculate your answer. "
   ]
  },
  {
   "cell_type": "code",
   "execution_count": null,
   "id": "7d49dcd4-8e1f-4dbb-9605-2256e5dad850",
   "metadata": {},
   "outputs": [],
   "source": [
    "p_positive_if_worn = .95\n",
    "p_worn = .05\n",
    "p_positive = .07\n",
    "\n",
    "p_worn_if_positive = ? "
   ]
  },
  {
   "cell_type": "markdown",
   "id": "14c3899f-71b3-47d4-84c2-41f4167cd0c2",
   "metadata": {},
   "source": [
    "### SCROLL DOWN FOR ANSWER\n",
    "|<br>\n",
    "|<br>\n",
    "|<br>\n",
    "|<br>\n",
    "|<br>\n",
    "|<br>\n",
    "|<br>\n",
    "|<br>\n",
    "|<br>\n",
    "|<br>\n",
    "|<br>\n",
    "|<br>\n",
    "|<br>\n",
    "|<br>\n",
    "|<br>\n",
    "|<br>\n",
    "|<br>\n",
    "|<br>\n",
    "|<br>\n",
    "|<br>\n",
    "|<br>\n",
    "|<br>\n",
    "|<br>\n",
    "v "
   ]
  },
  {
   "cell_type": "markdown",
   "id": "0970d5ea-b449-43bc-af49-54476c89a369",
   "metadata": {},
   "source": [
    "The answer is a 67.85% probability that a positive test actually yields a worn tire. Use Bayes Theorem to flip that conditional probability as shown below. "
   ]
  },
  {
   "cell_type": "code",
   "execution_count": null,
   "id": "2837305c-44a8-4931-8aaa-73e47618e772",
   "metadata": {},
   "outputs": [],
   "source": [
    "p_positive_if_worn = .95\n",
    "p_worn = .05\n",
    "p_positive = .07\n",
    "\n",
    "p_worn_if_positive = p_positive_if_worn * p_worn / p_positive\n",
    "print(p_worn_if_positive) # 0.6785714285714285"
   ]
  }
 ],
 "metadata": {
  "kernelspec": {
   "display_name": "Python 3 (ipykernel)",
   "language": "python",
   "name": "python3"
  },
  "language_info": {
   "codemirror_mode": {
    "name": "ipython",
    "version": 3
   },
   "file_extension": ".py",
   "mimetype": "text/x-python",
   "name": "python",
   "nbconvert_exporter": "python",
   "pygments_lexer": "ipython3",
   "version": "3.11.5"
  }
 },
 "nbformat": 4,
 "nbformat_minor": 5
}
